{
  "nbformat": 4,
  "nbformat_minor": 0,
  "metadata": {
    "colab": {
      "provenance": [],
      "authorship_tag": "ABX9TyN+5gt4qsS4tnd39Q8HulKk",
      "include_colab_link": true
    },
    "kernelspec": {
      "name": "python3",
      "display_name": "Python 3"
    },
    "language_info": {
      "name": "python"
    }
  },
  "cells": [
    {
      "cell_type": "markdown",
      "metadata": {
        "id": "view-in-github",
        "colab_type": "text"
      },
      "source": [
        "<a href=\"https://colab.research.google.com/github/suriya00567/Leetcode/blob/main/MasterLeetcode.ipynb\" target=\"_parent\"><img src=\"https://colab.research.google.com/assets/colab-badge.svg\" alt=\"Open In Colab\"/></a>"
      ]
    },
    {
      "cell_type": "markdown",
      "source": [
        "1. Rotate Image"
      ],
      "metadata": {
        "id": "6BL2P4BO0Ws1"
      }
    },
    {
      "cell_type": "code",
      "execution_count": null,
      "metadata": {
        "id": "W8EiL6T60BHi"
      },
      "outputs": [],
      "source": [
        "class Solution:\n",
        "    def rotate(self, matrix):\n",
        "        n = len(matrix)\n",
        "        for i in range(n):\n",
        "            for j in range(i + 1, n):\n",
        "                matrix[i][j], matrix[j][i] = matrix[j][i], matrix[i][j]\n",
        "        for i in range(n):\n",
        "            left = 0\n",
        "            right = n - 1\n",
        "            while left < right:\n",
        "                matrix[i][left], matrix[i][right] = matrix[i][right], matrix[i][left]\n",
        "                left += 1\n",
        "                right -= 1"
      ]
    },
    {
      "cell_type": "markdown",
      "source": [
        "2. Spiral Matrix\n"
      ],
      "metadata": {
        "id": "V12p_Q430b1N"
      }
    },
    {
      "cell_type": "code",
      "source": [
        "class Solution:\n",
        "    def spiralOrder(self, matrix):\n",
        "        result = []\n",
        "        if not matrix:\n",
        "            return result\n",
        "        top, bottom = 0, len(matrix) - 1\n",
        "        left, right = 0, len(matrix[0]) - 1\n",
        "        while top <= bottom and left <= right:\n",
        "            for col in range(left, right + 1):\n",
        "                result.append(matrix[top][col])\n",
        "            top += 1\n",
        "            for row in range(top, bottom + 1):\n",
        "                result.append(matrix[row][right])\n",
        "            right -= 1\n",
        "            if top <= bottom:\n",
        "                for col in range(right, left - 1, -1):\n",
        "                    result.append(matrix[bottom][col])\n",
        "                bottom -= 1\n",
        "            if left <= right:\n",
        "                for row in range(bottom, top - 1, -1):\n",
        "                    result.append(matrix[row][left])\n",
        "                left += 1\n",
        "        return result"
      ],
      "metadata": {
        "id": "rQ23GSj40V09"
      },
      "execution_count": null,
      "outputs": []
    },
    {
      "cell_type": "markdown",
      "source": [
        "3. Search in Rotated Sorted Array"
      ],
      "metadata": {
        "id": "7Mcf6GpN0vgR"
      }
    },
    {
      "cell_type": "code",
      "source": [
        "class Solution:\n",
        "    def search(self, nums, target):\n",
        "        left, right = 0, len(nums) - 1\n",
        "        while left <= right:\n",
        "            mid = (left + right) // 2\n",
        "            if nums[mid] == target:\n",
        "                return mid\n",
        "            if nums[left] <= nums[mid]:\n",
        "                if nums[left] <= target < nums[mid]:\n",
        "                    right = mid - 1\n",
        "                else:\n",
        "                    left = mid + 1\n",
        "            else:\n",
        "                if nums[mid] < target <= nums[right]:\n",
        "                    left = mid + 1\n",
        "                else:\n",
        "                    right = mid - 1\n",
        "        return -1"
      ],
      "metadata": {
        "id": "0mGz0z4901sJ"
      },
      "execution_count": null,
      "outputs": []
    },
    {
      "cell_type": "markdown",
      "source": [
        "4. Find Minimum in Rotated Sorted Array"
      ],
      "metadata": {
        "id": "TzAtfQEI09tz"
      }
    },
    {
      "cell_type": "code",
      "source": [
        "class Solution:\n",
        "    def findMin(self, nums):\n",
        "        left, right = 0, len(nums) - 1\n",
        "        while left < right:\n",
        "            mid = (left + right) // 2\n",
        "            if nums[mid] > nums[right]:\n",
        "                left = mid + 1\n",
        "            else:\n",
        "                right = mid\n",
        "        return nums[left]"
      ],
      "metadata": {
        "id": "KuU2h1qP1A3s"
      },
      "execution_count": null,
      "outputs": []
    },
    {
      "cell_type": "markdown",
      "source": [
        "5. Longest Repeating Character Replacement"
      ],
      "metadata": {
        "id": "GMsqtdpk1GqJ"
      }
    },
    {
      "cell_type": "code",
      "source": [
        "class Solution:\n",
        "    def characterReplacement(self, s: str, k: int) -> int:\n",
        "        count = {}\n",
        "        left = 0\n",
        "        max_freq = 0\n",
        "        result = 0\n",
        "        for right in range(len(s)):\n",
        "            count[s[right]] = count.get(s[right], 0) + 1\n",
        "            max_freq = max(max_freq, count[s[right]])\n",
        "            if (right - left + 1) - max_freq > k:\n",
        "                count[s[left]] -= 1\n",
        "                left += 1\n",
        "            result = max(result, right - left + 1)\n",
        "        return result"
      ],
      "metadata": {
        "id": "qgTDuGK_1JmW"
      },
      "execution_count": null,
      "outputs": []
    },
    {
      "cell_type": "markdown",
      "source": [
        "6. Sliding Window Maximum"
      ],
      "metadata": {
        "id": "DT2XZYNk1QY4"
      }
    },
    {
      "cell_type": "code",
      "source": [
        "from collections import deque\n",
        "class Solution:\n",
        "    def maxSlidingWindow(self, nums: list[int], k: int) -> list[int]:\n",
        "        dq = deque()\n",
        "        result = []\n",
        "        for i in range(len(nums)):\n",
        "            if dq and dq[0] == i - k:\n",
        "                dq.popleft()\n",
        "            while dq and nums[dq[-1]] < nums[i]:\n",
        "                dq.pop()\n",
        "            dq.append(i)\n",
        "            if i >= k - 1:\n",
        "                result.append(nums[dq[0]])\n",
        "        return result"
      ],
      "metadata": {
        "id": "cYpP8Eoq1TjK"
      },
      "execution_count": null,
      "outputs": []
    },
    {
      "cell_type": "markdown",
      "source": [
        "7. Minimum Size Subarray Sum"
      ],
      "metadata": {
        "id": "Oaj8yvDx1bZT"
      }
    },
    {
      "cell_type": "code",
      "source": [
        "class Solution:\n",
        "    def minSubArrayLen(self, target: int, nums: list[int]) -> int:\n",
        "        n = len(nums)\n",
        "        left = 0\n",
        "        curr_sum = 0\n",
        "        min_len = float('inf')\n",
        "        for right in range(n):\n",
        "            curr_sum += nums[right]\n",
        "            while curr_sum >= target:\n",
        "                min_len = min(min_len, right - left + 1)\n",
        "                curr_sum -= nums[left]\n",
        "                left += 1\n",
        "        return 0 if min_len == float('inf') else min_len"
      ],
      "metadata": {
        "id": "aKtTNIDL1fCK"
      },
      "execution_count": null,
      "outputs": []
    },
    {
      "cell_type": "markdown",
      "source": [
        "8. Largest Rectangle in Histogram"
      ],
      "metadata": {
        "id": "etExtVMp1mjV"
      }
    },
    {
      "cell_type": "code",
      "source": [
        "class Solution:\n",
        "    def largestRectangleArea(self, heights: list[int]) -> int:\n",
        "        stack = []\n",
        "        max_area = 0\n",
        "        heights.append(0)\n",
        "        for i, h in enumerate(heights):\n",
        "            while stack and heights[stack[-1]] > h:\n",
        "                height = heights[stack.pop()]\n",
        "                width = i if not stack else i - stack[-1] - 1\n",
        "                max_area = max(max_area, height * width)\n",
        "            stack.append(i)\n",
        "        return max_area"
      ],
      "metadata": {
        "id": "fTGi1bvf1rJC"
      },
      "execution_count": null,
      "outputs": []
    },
    {
      "cell_type": "markdown",
      "source": [
        "9. Maximal Rectangle"
      ],
      "metadata": {
        "id": "DiyMzvff1wo1"
      }
    },
    {
      "cell_type": "code",
      "source": [
        "class Solution:\n",
        "    def maximalRectangle(self, matrix: list[list[str]]) -> int:\n",
        "        if not matrix or not matrix[0]:\n",
        "            return 0\n",
        "        rows, cols = len(matrix), len(matrix[0])\n",
        "        heights = [0] * cols\n",
        "        max_area = 0\n",
        "        for r in range(rows):\n",
        "            for c in range(cols):\n",
        "                if matrix[r][c] == \"1\":\n",
        "                    heights[c] += 1\n",
        "                else:\n",
        "                    heights[c] = 0\n",
        "            max_area = max(max_area, self.largestRectangleArea(heights))\n",
        "        return max_area\n",
        "    def largestRectangleArea(self, heights: list[int]) -> int:\n",
        "        stack = []\n",
        "        max_area = 0\n",
        "        heights.append(0)\n",
        "        for i, h in enumerate(heights):\n",
        "            while stack and heights[stack[-1]] > h:\n",
        "                height = heights[stack.pop()]\n",
        "                width = i if not stack else i - stack[-1] - 1\n",
        "                max_area = max(max_area, height * width)\n",
        "            stack.append(i)\n",
        "        heights.pop()\n",
        "        return max_area"
      ],
      "metadata": {
        "id": "Abo4lrHS11w-"
      },
      "execution_count": null,
      "outputs": []
    },
    {
      "cell_type": "markdown",
      "source": [
        "10. Find All Anagrams in a String"
      ],
      "metadata": {
        "id": "pHMRrj541-CL"
      }
    },
    {
      "cell_type": "code",
      "source": [
        "class Solution:\n",
        "    def findAnagrams(self, s: str, p: str) -> list[int]:\n",
        "        if len(p) > len(s):\n",
        "            return []\n",
        "        res = []\n",
        "        p_count = [0] * 26\n",
        "        s_count = [0] * 26\n",
        "        for i in range(len(p)):\n",
        "            p_count[ord(p[i]) - ord('a')] += 1\n",
        "            s_count[ord(s[i]) - ord('a')] += 1\n",
        "        if p_count == s_count:\n",
        "            res.append(0)\n",
        "        for i in range(len(p), len(s)):\n",
        "            s_count[ord(s[i]) - ord('a')] += 1\n",
        "            s_count[ord(s[i - len(p)]) - ord('a')] -= 1\n",
        "            if s_count == p_count:\n",
        "                res.append(i - len(p) + 1)\n",
        "        return res"
      ],
      "metadata": {
        "id": "mAXQBc3E2LRe"
      },
      "execution_count": null,
      "outputs": []
    },
    {
      "cell_type": "markdown",
      "source": [
        "11. Copy List with Random Pointer"
      ],
      "metadata": {
        "id": "-mePaLY18Htp"
      }
    },
    {
      "cell_type": "code",
      "source": [
        "class Node:\n",
        "    def __init__(self, x: int, next: 'Node' = None, random: 'Node' = None):\n",
        "        self.val = x\n",
        "        self.next = next\n",
        "        self.random = random\n",
        "class Solution:\n",
        "    def copyRandomList(self, head: 'Node') -> 'Node':\n",
        "        if not head:\n",
        "            return None\n",
        "        curr = head\n",
        "        while curr:\n",
        "            new_node = Node(curr.val)\n",
        "            new_node.next = curr.next\n",
        "            curr.next = new_node\n",
        "            curr = new_node.next\n",
        "        curr = head\n",
        "        while curr:\n",
        "            if curr.random:\n",
        "                curr.next.random = curr.random.next\n",
        "            curr = curr.next.next\n",
        "        curr = head\n",
        "        copy_head = head.next\n",
        "        while curr:\n",
        "            copy_node = curr.next\n",
        "            curr.next = copy_node.next\n",
        "            if copy_node.next:\n",
        "                copy_node.next = copy_node.next.next\n",
        "            curr = curr.next\n",
        "        return copy_head"
      ],
      "metadata": {
        "id": "mjUVV3sF8CBi"
      },
      "execution_count": null,
      "outputs": []
    },
    {
      "cell_type": "markdown",
      "source": [
        "12. Sort List"
      ],
      "metadata": {
        "id": "L7nBAsy98Trt"
      }
    },
    {
      "cell_type": "code",
      "source": [
        "class ListNode:\n",
        "    def __init__(self, val=0, next=None):\n",
        "        self.val = val\n",
        "        self.next = next\n",
        "class Solution:\n",
        "    def sortList(self, head: ListNode) -> ListNode:\n",
        "        if not head or not head.next:\n",
        "            return head\n",
        "        slow, fast = head, head.next\n",
        "        while fast and fast.next:\n",
        "            slow = slow.next\n",
        "            fast = fast.next.next\n",
        "        mid = slow.next\n",
        "        slow.next = None\n",
        "        left = self.sortList(head)\n",
        "        right = self.sortList(mid)\n",
        "        return self.merge(left, right)\n",
        "    def merge(self, l1: ListNode, l2: ListNode) -> ListNode:\n",
        "        dummy = ListNode(0)\n",
        "        tail = dummy\n",
        "        while l1 and l2:\n",
        "            if l1.val < l2.val:\n",
        "                tail.next = l1\n",
        "                l1 = l1.next\n",
        "            else:\n",
        "                tail.next = l2\n",
        "                l2 = l2.next\n",
        "            tail = tail.next\n",
        "        tail.next = l1 if l1 else l2\n",
        "        return dummy.next"
      ],
      "metadata": {
        "id": "EIwtMJ_x8ZUD"
      },
      "execution_count": null,
      "outputs": []
    },
    {
      "cell_type": "markdown",
      "source": [
        "13. Intersection of Two Linked Lists"
      ],
      "metadata": {
        "id": "VaUzlMsX8mVx"
      }
    },
    {
      "cell_type": "code",
      "source": [
        "class ListNode:\n",
        "    def __init__(self, val=0, next=None):\n",
        "        self.val = val\n",
        "        self.next = next\n",
        "\n",
        "class Solution:\n",
        "    def getIntersectionNode(self, headA: ListNode, headB: ListNode) -> ListNode:\n",
        "        if not headA or not headB:\n",
        "            return None\n",
        "\n",
        "        pA, pB = headA, headB\n",
        "\n",
        "        while pA != pB:\n",
        "            pA = pA.next if pA else headB\n",
        "            pB = pB.next if pB else headA\n",
        "\n",
        "        return pA"
      ],
      "metadata": {
        "id": "JRBRMQvX8tcA"
      },
      "execution_count": null,
      "outputs": []
    },
    {
      "cell_type": "markdown",
      "source": [
        "14. Flatten a Multilevel Doubly Linked List"
      ],
      "metadata": {
        "id": "2qB7g1fw8xIz"
      }
    },
    {
      "cell_type": "code",
      "source": [],
      "metadata": {
        "id": "1CRU_RUT80c9"
      },
      "execution_count": null,
      "outputs": []
    }
  ]
}